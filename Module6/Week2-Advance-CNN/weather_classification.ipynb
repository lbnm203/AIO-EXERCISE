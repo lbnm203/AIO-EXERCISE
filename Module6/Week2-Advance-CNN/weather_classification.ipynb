{
  "cells": [
    {
      "cell_type": "code",
      "execution_count": 2,
      "metadata": {
        "collapsed": true,
        "id": "_3kUN2iG4UnZ"
      },
      "outputs": [],
      "source": [
        "# !unzip img_cls_weather_dataset.zip"
      ]
    },
    {
      "cell_type": "code",
      "execution_count": 3,
      "metadata": {
        "id": "S_7XTFH-449m"
      },
      "outputs": [],
      "source": [
        "import torch\n",
        "import torch.nn as nn\n",
        "import os\n",
        "import numpy as np\n",
        "import matplotlib.pyplot as plt\n",
        "import random\n",
        "import pandas as pd\n",
        "\n",
        "from PIL import Image\n",
        "from torch.utils.data import Dataset, DataLoader\n",
        "from sklearn.model_selection import train_test_split"
      ]
    },
    {
      "cell_type": "code",
      "execution_count": 4,
      "metadata": {
        "id": "ffbmYt956Wqk"
      },
      "outputs": [],
      "source": [
        "# fixed random values\n",
        "def set_seed(seed):\n",
        "    random.seed(seed)\n",
        "    np.random.seed(seed)\n",
        "    torch.manual_seed(seed)\n",
        "    torch.cuda.manual_seed(seed)\n",
        "    torch.cuda.manual_seed_all(seed)\n",
        "    torch.backends.cudnn.deterministic = True\n",
        "    torch.backends.cudnn.benchmark = False\n",
        "\n",
        "seed = 59\n",
        "set_seed(seed)"
      ]
    },
    {
      "cell_type": "markdown",
      "metadata": {
        "id": "vTC0woo76uX_"
      },
      "source": [
        "#### Read Data"
      ]
    },
    {
      "cell_type": "code",
      "execution_count": 5,
      "metadata": {
        "id": "HM5uvQHp6sIj"
      },
      "outputs": [],
      "source": [
        "root_dir = 'weather-dataset/dataset'\n",
        "img_paths = []\n",
        "labels = []\n",
        "classes = {\n",
        "    label_idx: class_name \\\n",
        "        for label_idx, class_name in enumerate(sorted(os.listdir(root_dir)))\n",
        "}\n",
        "\n",
        "# read all folder path contains labels match with data\n",
        "for label_idx, class_name in classes.items():\n",
        "    class_dir = os.path.join(root_dir, class_name)\n",
        "    for img_filename in os.listdir(class_dir):\n",
        "        img_path = os.path.join(class_dir, img_filename)\n",
        "        img_paths.append(img_path)\n",
        "        labels.append(label_idx)"
      ]
    },
    {
      "cell_type": "markdown",
      "metadata": {
        "id": "3VNoXxiL8Caj"
      },
      "source": [
        "#### Train - Val - Test Split"
      ]
    },
    {
      "cell_type": "code",
      "execution_count": 6,
      "metadata": {
        "id": "KijYENI17Xwk"
      },
      "outputs": [],
      "source": [
        "val_size = 0.2\n",
        "test_size = 0.125\n",
        "is_shuffle = True\n",
        "\n",
        "X_train, X_val, y_train, y_val = train_test_split(\n",
        "    img_paths, labels,\n",
        "    test_size=val_size,\n",
        "    random_state=seed,\n",
        "    shuffle=is_shuffle\n",
        ")\n",
        "\n",
        "X_train, X_test, y_train, y_test = train_test_split(\n",
        "    X_train, y_train,\n",
        "    test_size=test_size,\n",
        "    random_state=seed,\n",
        "    shuffle=is_shuffle\n",
        ")"
      ]
    },
    {
      "cell_type": "markdown",
      "metadata": {
        "id": "jYELGFhs8oqQ"
      },
      "source": [
        "#### Build Class Dataset\n"
      ]
    },
    {
      "cell_type": "code",
      "execution_count": 7,
      "metadata": {
        "id": "sbkvbl0X8n4O"
      },
      "outputs": [],
      "source": [
        "class WeatherDataset(Dataset):\n",
        "    def __init__(self, X, y, transform=None):\n",
        "        self.img_paths = X\n",
        "        self.labels = y\n",
        "        self.transform = transform\n",
        "\n",
        "    def __len__(self):\n",
        "        return len(self.img_paths)\n",
        "\n",
        "    def __getitem__(self, idx):\n",
        "        img_path = self.img_paths[idx]\n",
        "        img = Image.open(img_path).convert('RGB')\n",
        "\n",
        "        if self.transform:\n",
        "            img = self.transform(img)\n",
        "\n",
        "        label = self.labels[idx]\n",
        "        return img, label"
      ]
    },
    {
      "cell_type": "code",
      "execution_count": 8,
      "metadata": {
        "id": "Njpi31hj9CJG"
      },
      "outputs": [],
      "source": [
        "def transform(img, img_size=(224, 224)):\n",
        "    img = img.resize(img_size)\n",
        "    img = np.array(img)[..., :3]\n",
        "    img = torch.tensor(img).permute(2, 0, 1).float()\n",
        "    normalized_img = img / 255.0\n",
        "    return normalized_img"
      ]
    },
    {
      "cell_type": "code",
      "execution_count": 9,
      "metadata": {
        "id": "w8r4mAoN9c34"
      },
      "outputs": [],
      "source": [
        "train_dataset = WeatherDataset(X_train, y_train, transform=transform)\n",
        "val_dataset = WeatherDataset(X_val, y_val, transform=transform)\n",
        "test_dataset = WeatherDataset(X_test, y_test, transform=transform)"
      ]
    },
    {
      "cell_type": "code",
      "execution_count": 10,
      "metadata": {
        "id": "oSn2-I7K-NgX"
      },
      "outputs": [],
      "source": [
        "train_batch_size = 512\n",
        "test_batch_size = 8\n",
        "\n",
        "train_loader = DataLoader(train_dataset, batch_size=train_batch_size, shuffle=True)\n",
        "val_loader = DataLoader(val_dataset, batch_size=test_batch_size, shuffle=False)\n",
        "test_loader = DataLoader(test_dataset, batch_size=test_batch_size, shuffle=False)"
      ]
    },
    {
      "cell_type": "markdown",
      "metadata": {
        "id": "YieD-TYk-d7p"
      },
      "source": [
        "#### Build ResNet Model"
      ]
    },
    {
      "cell_type": "code",
      "execution_count": 11,
      "metadata": {
        "id": "ZwjrXrTp-b-0"
      },
      "outputs": [],
      "source": [
        "class ResidualBlock(nn.Module):\n",
        "    def __init__(self, in_channels, out_channels, stride=1):\n",
        "        super(ResidualBlock, self).__init__()\n",
        "        self.conv1 = nn.Conv2d(in_channels, out_channels, kernel_size=3, stride=stride, padding=1)\n",
        "        self.bn1 = nn.BatchNorm2d(out_channels)\n",
        "        self.conv2 = nn.Conv2d(out_channels, out_channels, kernel_size=3, stride=1, padding=1)\n",
        "        self.bn2 = nn.BatchNorm2d(out_channels)\n",
        "        self.downsample = nn.Sequential()\n",
        "        if stride != 1 or in_channels != out_channels:\n",
        "            self.downsample = nn.Sequential(\n",
        "                nn.Conv2d(in_channels, out_channels, kernel_size=1, stride=stride),\n",
        "                nn.BatchNorm2d(out_channels)\n",
        "            )\n",
        "        self.relu = nn.ReLU()\n",
        "\n",
        "    def forward(self, x):\n",
        "        shortcut = x.clone()\n",
        "        x = self.conv1(x)\n",
        "        x = self.bn1(x)\n",
        "        x = self.relu(x)\n",
        "        x = self.conv2(x)\n",
        "        x = self.bn2(x)\n",
        "        x += self.downsample(shortcut)\n",
        "        x = self.relu(x)\n",
        "        return x"
      ]
    },
    {
      "cell_type": "code",
      "execution_count": 12,
      "metadata": {
        "id": "jQoKQaJnAOaW"
      },
      "outputs": [],
      "source": [
        "class ResNet(nn.Module):\n",
        "    def __init__(self, residual_block, n_blocks_lst, n_classes):\n",
        "        super(ResNet, self).__init__()\n",
        "        self.conv1 = nn.Conv2d(3, 64, kernel_size=7, stride=2, padding=3)\n",
        "        self.bn1 = nn.BatchNorm2d(64)\n",
        "        self.relu = nn.ReLU()\n",
        "        self.maxpool = nn.MaxPool2d(kernel_size=3, stride=2, padding=1)\n",
        "        self.conv2 = self.create_layer(residual_block, 64, 64, n_blocks_lst[0], 1)\n",
        "        self.conv3 = self.create_layer(residual_block, 64, 128, n_blocks_lst[1], 2)\n",
        "        self.conv4 = self.create_layer(residual_block, 128, 256, n_blocks_lst[2], 2)\n",
        "        self.conv5 = self.create_layer(residual_block, 256, 512, n_blocks_lst[3], 2)\n",
        "        # self.avgpool = nn.AdaptiveAvgPool2d((1, 1))\n",
        "        self.avgpool = nn.AdaptiveAvgPool2d(1)\n",
        "        self.flatten = nn.Flatten()\n",
        "        self.fc1 = nn.Linear(512, n_classes)\n",
        "\n",
        "    def create_layer(self, residual_block, in_channels, out_channels, n_blocks, stride):\n",
        "        blocks = []\n",
        "        first_block = residual_block(in_channels, out_channels, stride)\n",
        "        blocks.append(first_block)\n",
        "\n",
        "        for _ in range(1, n_blocks):\n",
        "            block = residual_block(out_channels, out_channels, stride)\n",
        "            blocks.append(block)\n",
        "\n",
        "        block_seq = nn.Sequential(*blocks)\n",
        "        return block_seq\n",
        "\n",
        "    def forward(self, x):\n",
        "        x = self.conv1(x)\n",
        "        x = self.bn1(x)\n",
        "        x = self.maxpool(x)\n",
        "        x = self.relu(x)\n",
        "        x = self.conv2(x)\n",
        "        x = self.conv3(x)\n",
        "        x = self.conv4(x)\n",
        "        x = self.conv5(x)\n",
        "        x = self.avgpool(x)\n",
        "        x = self.flatten(x)\n",
        "        x = self.fc1(x)\n",
        "\n",
        "        return x"
      ]
    },
    {
      "cell_type": "code",
      "execution_count": 13,
      "metadata": {
        "colab": {
          "base_uri": "https://localhost:8080/"
        },
        "id": "aztR_dSdEenF",
        "outputId": "ed4dc9ec-d513-4d64-9a6d-b2f4247d0715"
      },
      "outputs": [
        {
          "name": "stdout",
          "output_type": "stream",
          "text": [
            "cuda\n"
          ]
        }
      ],
      "source": [
        "n_classes = len(list(classes.keys()))\n",
        "device = 'cuda' if torch.cuda.is_available() else 'cpu'\n",
        "print(device)\n",
        "\n",
        "model = ResNet(\n",
        "    residual_block=ResidualBlock,\n",
        "    n_blocks_lst=[2, 2, 2, 2],\n",
        "    n_classes=n_classes\n",
        ").to(device)"
      ]
    },
    {
      "cell_type": "markdown",
      "metadata": {
        "id": "BEu7EiZBJN1o"
      },
      "source": [
        "#### Create Model Evaluate Function"
      ]
    },
    {
      "cell_type": "code",
      "execution_count": 14,
      "metadata": {
        "id": "S04-hTIBHnxy"
      },
      "outputs": [],
      "source": [
        "def evaluate(model, dataloader, criterion, device):\n",
        "    model.eval()\n",
        "    correct = 0\n",
        "    total = 0\n",
        "    losses = []\n",
        "    with torch.no_grad():\n",
        "        for inputs, labels in dataloader:\n",
        "            inputs, labels = inputs.to(device), labels.to(device)\n",
        "            outputs = model(inputs)\n",
        "\n",
        "            loss = criterion(outputs, labels)\n",
        "            losses.append(loss.item())\n",
        "\n",
        "            _, predicted = torch.max(outputs.data, 1)\n",
        "            total += labels.size(0)\n",
        "            correct += (predicted == labels).sum().item()\n",
        "\n",
        "    accuracy = 100 * correct / total\n",
        "    loss = sum(losses) / len(losses)\n",
        "    return accuracy, loss"
      ]
    },
    {
      "cell_type": "code",
      "execution_count": 15,
      "metadata": {
        "id": "z2qh2k9uKNkQ"
      },
      "outputs": [],
      "source": [
        "def train(model, train_loader, val_loader, criterion, optimizer, device, num_epochs):\n",
        "    train_losses = []\n",
        "    val_losses = []\n",
        "\n",
        "    for epoch in range(num_epochs):\n",
        "        batch_train_losses = []\n",
        "\n",
        "        model.train()\n",
        "        for idx, (inputs, labels) in enumerate(train_loader):\n",
        "            inputs, labels = inputs.to(device), labels.to(device)\n",
        "\n",
        "            optimizer.zero_grad()\n",
        "            outputs = model(inputs)\n",
        "\n",
        "            loss = criterion(outputs, labels)\n",
        "            loss.backward()\n",
        "            optimizer.step()\n",
        "\n",
        "            batch_train_losses.append(loss.item())\n",
        "\n",
        "        train_loss = sum(batch_train_losses) / len(batch_train_losses)\n",
        "        train_losses.append(train_loss)\n",
        "\n",
        "        val_accuracy, val_loss = evaluate(model, val_loader, criterion, device)\n",
        "        val_losses.append(val_loss)\n",
        "\n",
        "        print(f'Epoch {epoch+1}/{num_epochs}:\\tTrain Loss: {train_loss:.4f}\\tVal Loss: {val_loss:.4f}\\tVal Accuracy: {val_accuracy:.2f}%')\n",
        "\n",
        "    return train_losses, val_losses"
      ]
    },
    {
      "cell_type": "code",
      "execution_count": 16,
      "metadata": {
        "colab": {
          "base_uri": "https://localhost:8080/"
        },
        "id": "WzQQ3ea9MBtN",
        "outputId": "0fbac1cb-efc2-4eef-9992-8e24ca88864c"
      },
      "outputs": [
        {
          "name": "stdout",
          "output_type": "stream",
          "text": [
            "Epoch 1/25:\tTrain Loss: 1.8799\tVal Loss: 2.3848\tVal Accuracy: 18.14%\n",
            "Epoch 2/25:\tTrain Loss: 1.2874\tVal Loss: 2.3704\tVal Accuracy: 21.92%\n",
            "Epoch 3/25:\tTrain Loss: 1.0117\tVal Loss: 2.1507\tVal Accuracy: 31.68%\n",
            "Epoch 4/25:\tTrain Loss: 0.8008\tVal Loss: 1.6003\tVal Accuracy: 52.08%\n",
            "Epoch 5/25:\tTrain Loss: 0.6580\tVal Loss: 1.1334\tVal Accuracy: 62.78%\n",
            "Epoch 6/25:\tTrain Loss: 0.5078\tVal Loss: 1.0893\tVal Accuracy: 62.49%\n",
            "Epoch 7/25:\tTrain Loss: 0.3821\tVal Loss: 1.1931\tVal Accuracy: 61.11%\n",
            "Epoch 8/25:\tTrain Loss: 0.3258\tVal Loss: 1.1262\tVal Accuracy: 63.22%\n",
            "Epoch 9/25:\tTrain Loss: 0.2237\tVal Loss: 1.0009\tVal Accuracy: 67.95%\n",
            "Epoch 10/25:\tTrain Loss: 0.1527\tVal Loss: 1.0027\tVal Accuracy: 65.26%\n",
            "Epoch 11/25:\tTrain Loss: 0.1144\tVal Loss: 0.9242\tVal Accuracy: 69.41%\n",
            "Epoch 12/25:\tTrain Loss: 0.0934\tVal Loss: 0.9458\tVal Accuracy: 68.61%\n",
            "Epoch 13/25:\tTrain Loss: 0.0717\tVal Loss: 0.9031\tVal Accuracy: 69.99%\n",
            "Epoch 14/25:\tTrain Loss: 0.0556\tVal Loss: 0.9489\tVal Accuracy: 69.41%\n",
            "Epoch 15/25:\tTrain Loss: 0.0473\tVal Loss: 0.9254\tVal Accuracy: 70.50%\n",
            "Epoch 16/25:\tTrain Loss: 0.0399\tVal Loss: 0.9201\tVal Accuracy: 69.26%\n",
            "Epoch 17/25:\tTrain Loss: 0.0336\tVal Loss: 0.9256\tVal Accuracy: 70.07%\n",
            "Epoch 18/25:\tTrain Loss: 0.0298\tVal Loss: 0.9248\tVal Accuracy: 70.14%\n",
            "Epoch 19/25:\tTrain Loss: 0.0251\tVal Loss: 0.9206\tVal Accuracy: 70.07%\n",
            "Epoch 20/25:\tTrain Loss: 0.0236\tVal Loss: 0.9210\tVal Accuracy: 70.58%\n",
            "Epoch 21/25:\tTrain Loss: 0.0212\tVal Loss: 0.9156\tVal Accuracy: 69.92%\n",
            "Epoch 22/25:\tTrain Loss: 0.0196\tVal Loss: 0.9109\tVal Accuracy: 70.87%\n",
            "Epoch 23/25:\tTrain Loss: 0.0187\tVal Loss: 0.9350\tVal Accuracy: 70.14%\n",
            "Epoch 24/25:\tTrain Loss: 0.0187\tVal Loss: 0.9191\tVal Accuracy: 71.16%\n",
            "Epoch 25/25:\tTrain Loss: 0.0153\tVal Loss: 0.9200\tVal Accuracy: 70.21%\n"
          ]
        }
      ],
      "source": [
        "lr = 1e-2\n",
        "epochs = 25\n",
        "\n",
        "criterion = nn.CrossEntropyLoss()\n",
        "optimizer = torch.optim.SGD(model.parameters(), lr=lr)\n",
        "\n",
        "train_losses, val_losses = train(model, train_loader, val_loader, criterion, optimizer, device, epochs)"
      ]
    },
    {
      "cell_type": "code",
      "execution_count": 26,
      "metadata": {
        "colab": {
          "base_uri": "https://localhost:8080/",
          "height": 487
        },
        "id": "e4pREBIMMdyt",
        "outputId": "64811cfa-294f-4594-8f6f-a11f0c5ef05c"
      },
      "outputs": [
        {
          "data": {
            "image/png": "[encoded data removed]",
            "text/plain": [
              "<Figure size 1200x500 with 2 Axes>"
            ]
          },
          "metadata": {},
          "output_type": "display_data"
        }
      ],
      "source": [
        "fig, ax = plt.subplots(1, 2, figsize=(12, 5))\n",
        "ax[0].plot(train_losses, color='blue')\n",
        "ax[0].set_title('Training Loss')\n",
        "ax[0].set_xlabel('Epoch')\n",
        "ax[0].set_ylabel('Loss')\n",
        "ax[1].plot(val_losses, color='orange')\n",
        "ax[1].set_title('Val Loss')\n",
        "ax[1].set_xlabel('Epoch')\n",
        "ax[1].set_ylabel('Loss')\n",
        "plt.show()"
      ]
    },
    {
      "cell_type": "code",
      "execution_count": 18,
      "metadata": {
        "colab": {
          "base_uri": "https://localhost:8080/"
        },
        "id": "BCNkHTwpODTp",
        "outputId": "d5d467af-e74f-42ec-c044-40402d297fed"
      },
      "outputs": [
        {
          "name": "stdout",
          "output_type": "stream",
          "text": [
            "Evaluation on val/test dataset\n",
            "Val accuracy: 0.9200092175715539\n",
            "Test accuracy: 0.9836651543371899\n"
          ]
        }
      ],
      "source": [
        "# Model Evaluation\n",
        "val_loss, val_acc = evaluate(model, val_loader, criterion, device)\n",
        "test_loss, test_acc = evaluate(model, test_loader, criterion, device)\n",
        "\n",
        "print(\"Evaluation on val/test dataset\")\n",
        "print('Val accuracy:', val_acc)\n",
        "print('Test accuracy:', test_acc)"
      ]
    }
  ],
  "metadata": {
    "accelerator": "GPU",
    "colab": {
      "gpuType": "T4",
      "provenance": []
    },
    "kernelspec": {
      "display_name": "Python 3",
      "name": "python3"
    },
    "language_info": {
      "name": "python"
    }
  },
  "nbformat": 4,
  "nbformat_minor": 0
}
