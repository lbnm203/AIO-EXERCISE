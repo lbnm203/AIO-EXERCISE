{
 "cells": [
  {
   "cell_type": "markdown",
   "metadata": {},
   "source": [
    "### 4.1 Create func create_train_data()"
   ]
  },
  {
   "cell_type": "code",
   "execution_count": 2,
   "metadata": {},
   "outputs": [
    {
     "name": "stdout",
     "output_type": "stream",
     "text": [
      "[['Sunny' 'Hot' 'High' 'Weak' 'no']\n",
      " ['Sunny' 'Hot' 'High' 'Strong' 'no']\n",
      " ['Overcast' 'Hot' 'High' 'Weak' 'yes']\n",
      " ['Rain' 'Mild' 'High' 'Weak' 'yes']\n",
      " ['Rain' 'Cool' 'Normal' 'Weak' 'yes']\n",
      " ['Rain' 'Cool' 'Normal' 'Strong' 'no']\n",
      " ['Overcast' 'Cool' 'Normal' 'Strong' 'yes']\n",
      " ['Overcast' 'Mild' 'High' 'Weak' 'no']\n",
      " ['Sunny' 'Cool' 'Normal' 'Weak' 'yes']\n",
      " ['Rain' 'Mild' 'Normal' 'Weak' 'yes']]\n"
     ]
    }
   ],
   "source": [
    "import numpy as np\n",
    "\n",
    "def create_train_data():\n",
    "  data = [\n",
    "        ['Sunny', 'Hot', 'High', 'Weak', 'no'],\n",
    "        ['Sunny', 'Hot', 'High', 'Strong', 'no'],\n",
    "        ['Overcast', 'Hot', 'High', 'Weak', 'yes'],\n",
    "        ['Rain', 'Mild', 'High', 'Weak', 'yes'],\n",
    "        ['Rain', 'Cool', 'Normal', 'Weak', 'yes'],\n",
    "        ['Rain', 'Cool', 'Normal', 'Strong', 'no'],\n",
    "        ['Overcast', 'Cool', 'Normal', 'Strong', 'yes'],\n",
    "        ['Overcast', 'Mild', 'High', 'Weak', 'no'],\n",
    "        ['Sunny', 'Cool', 'Normal', 'Weak', 'yes'],\n",
    "        ['Rain', 'Mild', 'Normal', 'Weak', 'yes']\n",
    "    ]\n",
    "  return np.array(data)\n",
    "\n",
    "train_data = create_train_data()\n",
    "print(train_data)"
   ]
  },
  {
   "cell_type": "markdown",
   "metadata": {},
   "source": [
    "#### 4.2 Create func compute_prior_probability"
   ]
  },
  {
   "cell_type": "code",
   "execution_count": 3,
   "metadata": {},
   "outputs": [
    {
     "name": "stdout",
     "output_type": "stream",
     "text": [
      "P(play tennis = No): 0.4\n",
      "P(play tennis = Yes): 0.6\n"
     ]
    }
   ],
   "source": [
    "# Xác suất tiền nghiệm\n",
    "def compute_prior_probability(train_data):\n",
    "   y_unique = ['no', 'yes']\n",
    "   prior_probability = np.zeros(len(y_unique))\n",
    "   for i in range(len(y_unique)):\n",
    "      prior_probability[i] = np.sum(train_data[:, -1] == y_unique[i]) / len(train_data)\n",
    "   return prior_probability\n",
    "\n",
    "prior_probability = compute_prior_probability(train_data)\n",
    "print(\"P(play tennis = No):\", prior_probability[0])\n",
    "print(\"P(play tennis = Yes):\", prior_probability[1])\n"
   ]
  },
  {
   "cell_type": "markdown",
   "metadata": {},
   "source": [
    "#### 4.3 Create func compute_conditional_probability"
   ]
  },
  {
   "cell_type": "code",
   "execution_count": 10,
   "metadata": {},
   "outputs": [
    {
     "data": {
      "text/plain": [
       "([array([[0.25      , 0.25      , 0.5       ],\n",
       "         [0.33333333, 0.5       , 0.16666667]]),\n",
       "  array([[0.25      , 0.5       , 0.25      ],\n",
       "         [0.5       , 0.16666667, 0.33333333]]),\n",
       "  array([[0.75      , 0.25      ],\n",
       "         [0.33333333, 0.66666667]]),\n",
       "  array([[0.5       , 0.5       ],\n",
       "         [0.16666667, 0.83333333]])],\n",
       " [array(['Overcast', 'Rain', 'Sunny'], dtype='<U8'),\n",
       "  array(['Cool', 'Hot', 'Mild'], dtype='<U8'),\n",
       "  array(['High', 'Normal'], dtype='<U8'),\n",
       "  array(['Strong', 'Weak'], dtype='<U8')])"
      ]
     },
     "execution_count": 10,
     "metadata": {},
     "output_type": "execute_result"
    }
   ],
   "source": [
    "# Xác suất có điều kiện\n",
    "def compute_conditional_probability(train_data):\n",
    "   y_unique = ['no', 'yes']\n",
    "   conditional_probability = []\n",
    "   list_x_name = []\n",
    "   for i in range(0, train_data.shape[-1] - 1):\n",
    "      x_unique = np.unique(train_data[:, i])\n",
    "      list_x_name.append(x_unique)\n",
    "\n",
    "      x_conditional_probability = np.zeros((len(y_unique), len(x_unique)))\n",
    "\n",
    "      for j in range(len(y_unique)):\n",
    "         for k in range(len(x_unique)):\n",
    "            count = np.sum((train_data[:, i] == x_unique[k]) & (train_data[:, -1] == y_unique[j]))\n",
    "            x_conditional_probability[j, k] = count / np.sum(train_data[:, -1] == y_unique[j])\n",
    "      conditional_probability.append(x_conditional_probability)\n",
    "\n",
    "   return conditional_probability , list_x_name\n",
    "\n",
    "conditional_probability , list_x_name = compute_conditional_probability(train_data)\n",
    "conditional_probability , list_x_name"
   ]
  },
  {
   "cell_type": "code",
   "execution_count": 11,
   "metadata": {},
   "outputs": [
    {
     "name": "stdout",
     "output_type": "stream",
     "text": [
      "x1 =  ['Overcast' 'Rain' 'Sunny']\n",
      "x2 =  ['Cool' 'Hot' 'Mild']\n",
      "x3 =  ['High' 'Normal']\n",
      "x4 =  ['Strong' 'Weak']\n"
     ]
    }
   ],
   "source": [
    "train_data = create_train_data()\n",
    "_, list_x_name = compute_conditional_probability(train_data)\n",
    "print(\"x1 = \", list_x_name[0])\n",
    "print(\"x2 = \", list_x_name[1])\n",
    "print(\"x3 = \", list_x_name[2])\n",
    "print(\"x4 = \", list_x_name[3])"
   ]
  },
  {
   "cell_type": "markdown",
   "metadata": {},
   "source": [
    "#### 4.4 Create func get_index_from_value()"
   ]
  },
  {
   "cell_type": "code",
   "execution_count": 12,
   "metadata": {},
   "outputs": [],
   "source": [
    "def get_index_from_value(feature_name, list_features):\n",
    "   return np.where(list_features == feature_name)[0][0]"
   ]
  },
  {
   "cell_type": "code",
   "execution_count": 14,
   "metadata": {},
   "outputs": [
    {
     "name": "stdout",
     "output_type": "stream",
     "text": [
      "0 1 2\n"
     ]
    }
   ],
   "source": [
    "train_data = create_train_data()\n",
    "_, list_x_name = compute_conditional_probability(train_data)\n",
    "outlook = list_x_name[0]\n",
    "\n",
    "i1 = get_index_from_value(\"Overcast\", outlook)\n",
    "i2 = get_index_from_value(\"Rain\", outlook)\n",
    "i3 = get_index_from_value(\"Sunny\", outlook)\n",
    "\n",
    "print(i1, i2, i3)"
   ]
  },
  {
   "cell_type": "code",
   "execution_count": 19,
   "metadata": {},
   "outputs": [
    {
     "name": "stdout",
     "output_type": "stream",
     "text": [
      "P('Outlook' = 'Sunny'|Play Tennis = 'Yes') =  0.17\n",
      "P('Outlook' = 'Sunny'|Play Tennis = 'No') =  0.5\n"
     ]
    }
   ],
   "source": [
    "train_data = create_train_data()\n",
    "conditional_probability, list_x_name = compute_conditional_probability(train_data)\n",
    "# Compute  P(\"Outlook\" = \"Sunny\"|Play Tennis = \"Yes\")\n",
    "x1 = get_index_from_value(\"Sunny\", list_x_name[0])\n",
    "print(\"P('Outlook' = 'Sunny'|Play Tennis = 'Yes') = \", np.round(conditional_probability[0][1, x1], 2))\n",
    "\n",
    "# Compute  P(\"Outlook\" = \"Sunny\"|Play Tennis = \"No\")\n",
    "x1 = get_index_from_value(\"Sunny\", list_x_name[0])\n",
    "print(\"P('Outlook' = 'Sunny'|Play Tennis = 'No') = \", np.round(conditional_probability[0][0, x1], 2))"
   ]
  },
  {
   "cell_type": "markdown",
   "metadata": {},
   "source": [
    "#### Finish func train_naive_bayes()"
   ]
  },
  {
   "cell_type": "code",
   "execution_count": 20,
   "metadata": {},
   "outputs": [],
   "source": [
    "###########################\n",
    "# Train Naive Bayes Model\n",
    "###########################\n",
    "\n",
    "def train_naive_bayes(train_data):\n",
    "   # Step 1: Calculate Prior Probability\n",
    "   y_unique = ['no', 'yes']\n",
    "   prior_probability = compute_prior_probability(train_data)\n",
    "\n",
    "   # Step 2: Calculate Conditional Probability\n",
    "   conditional_probability, list_x_name = compute_conditional_probability(train_data)\n",
    "\n",
    "   return prior_probability, conditional_probability, list_x_name"
   ]
  },
  {
   "cell_type": "code",
   "execution_count": 22,
   "metadata": {},
   "outputs": [],
   "source": [
    "\n",
    "####################\n",
    "# Prediction\n",
    "####################\n",
    "def prediction_play_tennis(X, list_x_name, prior_probability, conditional_probability):\n",
    "   x1 = get_index_from_value(X[0], list_x_name[0])\n",
    "   x2 = get_index_from_value(X[1], list_x_name[1])\n",
    "   x3 = get_index_from_value(X[2], list_x_name[2])\n",
    "   x4 = get_index_from_value(X[3], list_x_name[3])\n",
    "\n",
    "   p0 = prior_probability[0]\n",
    "   p1 = prior_probability[1]\n",
    "\n",
    "   p0 *= (conditional_probability[0][0, x1] * conditional_probability[1][0, x2] * conditional_probability[2][0, x3] * conditional_probability[3][0, x4])\n",
    "\n",
    "   p1 *= (conditional_probability[0][1, x1] * conditional_probability[1][1, x2] * conditional_probability[2][1, x3] * conditional_probability[3][1, x4])\n",
    "\n",
    "   if p0 > p1:\n",
    "      y_pred = 0\n",
    "   else:\n",
    "      y_pred = 1\n",
    "\n",
    "   return y_pred"
   ]
  },
  {
   "cell_type": "code",
   "execution_count": 23,
   "metadata": {},
   "outputs": [
    {
     "name": "stdout",
     "output_type": "stream",
     "text": [
      "Ad should not go!\n"
     ]
    }
   ],
   "source": [
    "\n",
    "X = ['Sunny', 'Cool', 'High', 'Strong']\n",
    "data = create_train_data()\n",
    "prior_probability, conditional_probability, list_x_name = train_naive_bayes(data)\n",
    "pred = prediction_play_tennis(X, list_x_name, prior_probability, conditional_probability)\n",
    "\n",
    "if pred:\n",
    "    print(\"Ad should go!\")\n",
    "else:\n",
    "    print(\"Ad should not go!\")"
   ]
  },
  {
   "cell_type": "code",
   "execution_count": null,
   "metadata": {},
   "outputs": [],
   "source": []
  }
 ],
 "metadata": {
  "kernelspec": {
   "display_name": "Python 3",
   "language": "python",
   "name": "python3"
  },
  "language_info": {
   "codemirror_mode": {
    "name": "ipython",
    "version": 3
   },
   "file_extension": ".py",
   "mimetype": "text/x-python",
   "name": "python",
   "nbconvert_exporter": "python",
   "pygments_lexer": "ipython3",
   "version": "3.12.4"
  }
 },
 "nbformat": 4,
 "nbformat_minor": 2
}
