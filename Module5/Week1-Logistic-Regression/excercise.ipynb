{
 "cells": [
  {
   "cell_type": "code",
   "execution_count": 1,
   "metadata": {},
   "outputs": [],
   "source": [
    "import numpy as np"
   ]
  },
  {
   "cell_type": "code",
   "execution_count": 5,
   "metadata": {},
   "outputs": [
    {
     "name": "stdout",
     "output_type": "stream",
     "text": [
      "0.9298899437785819\n"
     ]
    }
   ],
   "source": [
    "#  Question 13\n",
    "def predict(theta, x):\n",
    "    z = np.dot(x, theta)\n",
    "    y_hat = 1 / (1 + np.exp(-z))\n",
    "    return y_hat\n",
    "\n",
    "x = np.array([22.3, -1.5, 1.1, 1])\n",
    "theta = np.array([0.1, -0.15, 0.3, -0.2])\n",
    "\n",
    "print(predict(x, theta))"
   ]
  },
  {
   "cell_type": "code",
   "execution_count": 6,
   "metadata": {},
   "outputs": [
    {
     "name": "stdout",
     "output_type": "stream",
     "text": [
      "0.5043515376900958\n"
     ]
    }
   ],
   "source": [
    "# Question 14\n",
    "def compute_loss(y_hat, y):\n",
    "   y_hat = np.clip(y_hat, 1e-7, 1 - 1e-7)\n",
    "   return (-y * np.log(y_hat) - (1 - y) * np.log(1 - y_hat)).mean()\n",
    "\n",
    "y = np.array([1, 0, 0, 1])\n",
    "y_hat = np.array([0.8, 0.75, 0.3, 0.95])\n",
    "\n",
    "print(compute_loss(y_hat, y))"
   ]
  },
  {
   "cell_type": "code",
   "execution_count": 9,
   "metadata": {},
   "outputs": [
    {
     "name": "stdout",
     "output_type": "stream",
     "text": [
      "[-0.0625  0.0625]\n"
     ]
    }
   ],
   "source": [
    "# Question 16\n",
    "def compute_gradient(X, y_true, y_pred):\n",
    "    gradient = np.dot(X.T, (y_pred - y_true)) / y_true.size\n",
    "    return gradient\n",
    "\n",
    "X = np.array([[1,2], [2,1], [1, 1], [2, 2]])\n",
    "y_true = np.array([0, 1, 0, 1])\n",
    "y_pred = ([0.25, 0.75, 0.4, 0.8])\n",
    "\n",
    "print(compute_gradient(X, y_true, y_pred))"
   ]
  },
  {
   "cell_type": "code",
   "execution_count": 10,
   "metadata": {},
   "outputs": [
    {
     "name": "stdout",
     "output_type": "stream",
     "text": [
      "1.0\n"
     ]
    }
   ],
   "source": [
    "# Question 17\n",
    "def compute_accuracy(y_true, y_pred):\n",
    "    y_pred_rounded = np.round(y_pred)\n",
    "    accuracy = np.mean(y_true == y_pred_rounded)\n",
    "    return accuracy\n",
    "\n",
    "y_true = np.array([1, 0, 1, 1])\n",
    "y_pred = np.array([0.85, 0.35, 0.9, 0.75])\n",
    "print(compute_accuracy(y_true, y_pred))"
   ]
  },
  {
   "cell_type": "code",
   "execution_count": 11,
   "metadata": {},
   "outputs": [
    {
     "name": "stdout",
     "output_type": "stream",
     "text": [
      "[-0.2125 -0.4   ]\n"
     ]
    }
   ],
   "source": [
    "# Question 18\n",
    "def compute_gradient(X, y_true, y_pred):\n",
    "   gradient = np.dot(X.T, (y_pred - y_true)) / y_true.size\n",
    "   return gradient\n",
    "\n",
    "X = np.array([[1, 3], [2, 1], [3, 2], [1, 2]])\n",
    "y_true = np.array([1, 0, 1, 1])\n",
    "y_pred = np.array([0.7, 0.4, 0.6, 0.85])\n",
    "\n",
    "print(compute_gradient(X, y_true, y_pred))"
   ]
  },
  {
   "cell_type": "code",
   "execution_count": null,
   "metadata": {},
   "outputs": [],
   "source": []
  }
 ],
 "metadata": {
  "kernelspec": {
   "display_name": "Python 3",
   "language": "python",
   "name": "python3"
  },
  "language_info": {
   "codemirror_mode": {
    "name": "ipython",
    "version": 3
   },
   "file_extension": ".py",
   "mimetype": "text/x-python",
   "name": "python",
   "nbconvert_exporter": "python",
   "pygments_lexer": "ipython3",
   "version": "3.12.4"
  }
 },
 "nbformat": 4,
 "nbformat_minor": 2
}
