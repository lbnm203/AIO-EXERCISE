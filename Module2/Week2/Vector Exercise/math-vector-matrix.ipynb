{
 "cells": [
  {
   "cell_type": "code",
   "execution_count": 2,
   "metadata": {},
   "outputs": [],
   "source": [
    "import numpy as np"
   ]
  },
  {
   "cell_type": "markdown",
   "metadata": {},
   "source": [
    "#### (a) Length of a vector"
   ]
  },
  {
   "cell_type": "code",
   "execution_count": 3,
   "metadata": {},
   "outputs": [
    {
     "name": "stdout",
     "output_type": "stream",
     "text": [
      "23.28\n"
     ]
    }
   ],
   "source": [
    "def compute_vector_length(vector):\n",
    "    len_of_vector = np.linalg.norm(vector)\n",
    "    return len_of_vector\n",
    "\n",
    "\n",
    "vector = np.array([-2, 4, 9, 21])\n",
    "result = compute_vector_length([vector])\n",
    "print(round(result, 2))"
   ]
  },
  {
   "cell_type": "markdown",
   "metadata": {},
   "source": [
    "#### (b) Dot Product"
   ]
  },
  {
   "cell_type": "code",
   "execution_count": 4,
   "metadata": {},
   "outputs": [
    {
     "name": "stdout",
     "output_type": "stream",
     "text": [
      "4\n"
     ]
    }
   ],
   "source": [
    "def compute_dot_product(vector1, vector2):\n",
    "    result = np.dot(vector1, vector2)\n",
    "    return result\n",
    "\n",
    "\n",
    "v1 = np.array([0, 1, -1, 2])\n",
    "v2 = np.array([2, 5, 1, 0])\n",
    "print(round(compute_dot_product(v1, v2), 2))"
   ]
  },
  {
   "cell_type": "markdown",
   "metadata": {},
   "source": [
    "#### (c) Multiplying a vector by a matrix"
   ]
  },
  {
   "cell_type": "code",
   "execution_count": 9,
   "metadata": {},
   "outputs": [
    {
     "name": "stdout",
     "output_type": "stream",
     "text": [
      "[3 1]\n"
     ]
    }
   ],
   "source": [
    "def matrix_multi_vector(matrix, vector):\n",
    "    result = np.dot(matrix, vector)\n",
    "    return result\n",
    "\n",
    "\n",
    "m = np.array([[-1, 1, 1], \n",
    "              [0, -4, 9]])\n",
    "v = np.array([0, 2, 1])\n",
    "print(matrix_multi_vector(m, v))"
   ]
  },
  {
   "cell_type": "markdown",
   "metadata": {},
   "source": [
    "#### (d) Multiplying a matrix by a matrix"
   ]
  },
  {
   "cell_type": "code",
   "execution_count": 10,
   "metadata": {},
   "outputs": [
    {
     "name": "stdout",
     "output_type": "stream",
     "text": [
      "[[  6  -1]\n",
      " [-16 -10]]\n"
     ]
    }
   ],
   "source": [
    "\n",
    "def matrix_multi_matrix(matrix1, matrix2):\n",
    "    len_of_vector = np.dot(matrix1, matrix2)\n",
    "    return len_of_vector\n",
    "\n",
    "\n",
    "m1 = np.array([[0, 1, 2], \n",
    "               [2, -3, 1]])\n",
    "m2 = np.array([[1, -3],\n",
    "               [6, 1],\n",
    "               [0, -1]])\n",
    "print(matrix_multi_matrix(m1, m2))"
   ]
  },
  {
   "cell_type": "markdown",
   "metadata": {},
   "source": [
    "#### (e) Matrix inverse\n",
    "- A = $\\begin{bmatrix} -2 & 6 \\\\ 8 & -4 \\end{bmatrix}$\n",
    "\n",
    "- $\\det(A) = (-2) \\cdot (-4) - 6 \\cdot 8 = -40 \\neq 0$\n",
    "\n",
    "$\\Rightarrow A^{-1} = \\frac{1}{\\det(A)} \\begin{bmatrix} d & -b \\\\ -c & a \\end{bmatrix}\n",
    "= \\frac{1}{-40} \\begin{bmatrix} -4 & -6 \\\\ -8 & -2 \\end{bmatrix} = \\begin{bmatrix} 0.1 & 0.15 \\\\ 0.2 & 0.05 \\end{bmatrix}$\n"
   ]
  },
  {
   "cell_type": "code",
   "execution_count": 12,
   "metadata": {},
   "outputs": [
    {
     "name": "stdout",
     "output_type": "stream",
     "text": [
      "[[0.1  0.15]\n",
      " [0.2  0.05]]\n"
     ]
    }
   ],
   "source": [
    "# (e) Matrix inverse\n",
    "def inverse_matrix(matrix):\n",
    "    if matrix.shape != (2, 2):\n",
    "        raise ValueError('its not matrix 2x2')\n",
    "\n",
    "    det_matrix = np.linalg.det(matrix)\n",
    "    if det_matrix == 0:\n",
    "        raise ValueError('matrix is not invertible')\n",
    "\n",
    "    result = np.linalg.inv(matrix)\n",
    "    return result\n",
    "\n",
    "\n",
    "m1 = np.array([[-2, 6],\n",
    "               [8, -4]])\n",
    "print(inverse_matrix(m1))"
   ]
  },
  {
   "cell_type": "code",
   "execution_count": null,
   "metadata": {},
   "outputs": [],
   "source": []
  }
 ],
 "metadata": {
  "kernelspec": {
   "display_name": "Python 3",
   "language": "python",
   "name": "python3"
  },
  "language_info": {
   "codemirror_mode": {
    "name": "ipython",
    "version": 3
   },
   "file_extension": ".py",
   "mimetype": "text/x-python",
   "name": "python",
   "nbconvert_exporter": "python",
   "pygments_lexer": "ipython3",
   "version": "3.12.4"
  }
 },
 "nbformat": 4,
 "nbformat_minor": 2
}
