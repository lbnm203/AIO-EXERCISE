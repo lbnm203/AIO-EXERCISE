{
 "cells": [
  {
   "cell_type": "markdown",
   "metadata": {},
   "source": []
  },
  {
   "cell_type": "markdown",
   "metadata": {},
   "source": [
    "$$f(w_1, w_2) = 0.1w_1^2 + 2w_2^2 \\;\\;\\;\\;\\;\\;\\;(1)$$"
   ]
  },
  {
   "cell_type": "code",
   "execution_count": 48,
   "metadata": {},
   "outputs": [],
   "source": [
    "import numpy as np"
   ]
  },
  {
   "cell_type": "code",
   "execution_count": 49,
   "metadata": {},
   "outputs": [],
   "source": [
    "def df_w(w):\n",
    "    \"\"\"\n",
    "    Thực hiện tính gradient của dw1 và dw2\n",
    "    Arguments:\n",
    "    W -- np.array [w1, w2]\n",
    "    Returns:\n",
    "    dW -- np.array [dw1, dw2], array chứa giá trị đạo hàm theo w1 và w2\n",
    "    \"\"\"\n",
    "\n",
    "    dw1 = 2 * 0.1 * w[0]\n",
    "    dw2 = 2 * 2 * w[1]\n",
    "\n",
    "    dW = np.array([dw1, dw2])\n",
    "\n",
    "\n",
    "    return dW"
   ]
  },
  {
   "cell_type": "code",
   "execution_count": 50,
   "metadata": {},
   "outputs": [],
   "source": [
    "def Adam(W, dW, lr, V, S, beta1, beta2, t):\n",
    "    \"\"\"\n",
    "    Thực hiện thuật tóan Adam để update w1 và w2\n",
    "    Arguments:\n",
    "    W -- np.array: [w1, w2]\n",
    "    dW -- np.array: [dw1, dw2], array chứa giá trị đạo hàm theo w1 và w2\n",
    "    lr -- float: learning rate\n",
    "    V -- np.array: [v1, v2] Exponentially weighted averages gradients\n",
    "    S -- np.array: [s1, s2] Exponentially weighted averages bình phương gradients\n",
    "    beta1 -- float: hệ số long-range average cho V\n",
    "    beta2 -- float: hệ số long-range average cho S\n",
    "    t -- int: lần thứ t update (bắt đầu bằng 1)\n",
    "    Returns:\n",
    "    W -- np.array: [w1, w2] w1 và w2 sau khi đã update\n",
    "    V -- np.array: [v1, v2] Exponentially weighted averages gradients sau khi đã cập nhật\n",
    "    S -- np.array: [s1, s2] Exponentially weighted averages bình phương gradients sau khi đã cập nhật\n",
    "    \"\"\"\n",
    "    epsilon = 1e-6\n",
    "    #################### YOUR CODE HERE ####################\n",
    "    V = beta1 * V + (1 - beta1) * dW \n",
    "\n",
    "    S = beta2 * S + (1 - beta2) * (dW ** 2)\n",
    "\n",
    "    V_corr = V / (1 - beta1)\n",
    "\n",
    "    S_corr = S / (1 - beta2)\n",
    "\n",
    "    W = W - lr * V_corr / (np.sqrt(S_corr) + epsilon)\n",
    "    ########################################################\n",
    "    return W, V, S"
   ]
  },
  {
   "cell_type": "code",
   "execution_count": 51,
   "metadata": {},
   "outputs": [],
   "source": [
    "def train_p1(optimizer, lr, epochs):\n",
    "    \"\"\"\n",
    "    Thực hiện tìm điểm minimum của function (1) dựa vào thuật toán\n",
    "    được truyền vào từ optimizer\n",
    "    Arguments:\n",
    "    optimize : function thực hiện thuật toán optimization cụ thể\n",
    "    lr -- float: learning rate\n",
    "    epochs -- int: số lượng lần (epoch) lặp để tìm điểm minimum\n",
    "    Returns:\n",
    "    results -- list: list các cặp điểm [w1, w2] sau mỗi epoch (mỗi lần cập nhật)\n",
    "    \"\"\"\n",
    "    # initial\n",
    "    W = np.array([-5, -2], dtype=np.float32)\n",
    "    V = np.array([0, 0], dtype=np.float32)\n",
    "    S = np.array([0, 0], dtype=np.float32)\n",
    "    results = [W]\n",
    "    #################### YOUR CODE HERE ####################\n",
    "    # Tạo vòng lặp theo số lần epochs\n",
    "    # tìm gradient dW gồm dw1 và dw2\n",
    "    # dùng thuật toán optimization cập nhật w1, w2, s1, s2, v1, v2\n",
    "    # append cặp [w1, w2] vào list results\n",
    "    # các bạn lưu ý mỗi lần lặp nhớ lấy t (lần thứ t lặp) và t bất đầu bằng 1\n",
    "    for epoch in range(epochs):\n",
    "        dW = df_w(W)\n",
    "        W, V, S = optimizer(W, dW, lr, V, S, beta1=0.9, beta2=0.999, t=epoch+1)\n",
    "        results.append(W)\n",
    "\n",
    "    return results"
   ]
  },
  {
   "cell_type": "code",
   "execution_count": 52,
   "metadata": {},
   "outputs": [
    {
     "data": {
      "text/plain": [
       "[array([-5., -2.], dtype=float32),\n",
       " array([-4.8000002 , -1.80000002]),\n",
       " array([-4.53157446, -1.53234021]),\n",
       " array([-4.2198145 , -1.22391458]),\n",
       " array([-3.87886593, -0.8920874 ]),\n",
       " array([-3.5184822 , -0.55167136]),\n",
       " array([-3.14612788, -0.21734608]),\n",
       " array([-2.7679101 ,  0.09556942]),\n",
       " array([-2.38906471,  0.37175056]),\n",
       " array([-2.01423269,  0.5978378 ]),\n",
       " array([-1.64762053,  0.76489708]),\n",
       " array([-1.29308728,  0.8698814 ]),\n",
       " array([-0.95417995,  0.91525602]),\n",
       " array([-0.63413034,  0.90733373]),\n",
       " array([-0.33582336,  0.85443713]),\n",
       " array([-0.06174675,  0.76556849]),\n",
       " array([0.18606706, 0.64967888]),\n",
       " array([0.40609556, 0.51535336]),\n",
       " array([0.59736657, 0.37070313]),\n",
       " array([0.75947608, 0.22331396]),\n",
       " array([0.89257921, 0.08016373]),\n",
       " array([ 0.99735438, -0.05252633]),\n",
       " array([ 1.07494495, -0.16949778]),\n",
       " array([ 1.12688525, -0.2666743 ]),\n",
       " array([ 1.15501888, -0.34133181]),\n",
       " array([ 1.16141666, -0.39216583]),\n",
       " array([ 1.14829976, -0.41923376]),\n",
       " array([ 1.11797166, -0.42378827]),\n",
       " array([ 1.07276057, -0.40804304]),\n",
       " array([ 1.01497252, -0.37491687]),\n",
       " array([ 0.94685427, -0.32779017])]"
      ]
     },
     "execution_count": 52,
     "metadata": {},
     "output_type": "execute_result"
    }
   ],
   "source": [
    "train_p1(Adam, lr=0.2, epochs=30)"
   ]
  },
  {
   "cell_type": "code",
   "execution_count": null,
   "metadata": {},
   "outputs": [],
   "source": []
  }
 ],
 "metadata": {
  "kernelspec": {
   "display_name": "Python 3",
   "language": "python",
   "name": "python3"
  },
  "language_info": {
   "codemirror_mode": {
    "name": "ipython",
    "version": 3
   },
   "file_extension": ".py",
   "mimetype": "text/x-python",
   "name": "python",
   "nbconvert_exporter": "python",
   "pygments_lexer": "ipython3",
   "version": "3.12.4"
  }
 },
 "nbformat": 4,
 "nbformat_minor": 2
}
