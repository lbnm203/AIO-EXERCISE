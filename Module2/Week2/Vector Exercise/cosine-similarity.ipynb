{
 "cells": [
  {
   "cell_type": "code",
   "execution_count": 1,
   "metadata": {},
   "outputs": [],
   "source": [
    "import numpy as np"
   ]
  },
  {
   "cell_type": "markdown",
   "metadata": {},
   "source": [
    "$x = \\begin{bmatrix} 1\\\\2\\\\3\\\\4\\end{bmatrix}, \\ y = \\begin{bmatrix} 1\\\\0\\\\3\\\\0\\end{bmatrix}$\n",
    "\n",
    "## Cosine Similarity\n",
    "$x \\cdot y = 1\\cdot1+2\\cdot0+3\\cdot3+4\\cdot0 = 10$\n",
    "\n",
    "$\\|x\\| = \\sqrt{1^2 + 2^2 + 3^2 + 4^2} = \\sqrt{1 + 4 + 9 + 16} = \\sqrt{30}$\n",
    "\n",
    "$\\|y\\| = \\sqrt{1^2 + 0^2 + 3^2 + 0^2} = \\sqrt{1 + 0 + 9 + 0} = \\sqrt{10}$\n",
    "\n",
    "$cs(x, y) = \\frac{x \\cdot y}{||x||||y||} = \\frac{10}{\\sqrt{30}\\sqrt{10}} = 0.577$"
   ]
  },
  {
   "cell_type": "code",
   "execution_count": 3,
   "metadata": {},
   "outputs": [
    {
     "name": "stdout",
     "output_type": "stream",
     "text": [
      "0.5773502691896257\n"
     ]
    }
   ],
   "source": [
    "def compute_cosine(v1, v2):\n",
    "   dot_p = np.dot(v1, v2)\n",
    "   norm_v1 = np.linalg.norm(v1, axis=0)\n",
    "   norm_v2 = np.linalg.norm(v2, axis=0)\n",
    "   cos_sim = dot_p / (norm_v1 * norm_v2)\n",
    "   return cos_sim\n",
    "\n",
    "x = np.array([1, 2, 3, 4])\n",
    "y = np.array([1, 0, 3, 0])\n",
    "\n",
    "result = compute_cosine(x, y)\n",
    "print(result)"
   ]
  },
  {
   "cell_type": "code",
   "execution_count": null,
   "metadata": {},
   "outputs": [],
   "source": []
  }
 ],
 "metadata": {
  "kernelspec": {
   "display_name": "Python 3",
   "language": "python",
   "name": "python3"
  },
  "language_info": {
   "codemirror_mode": {
    "name": "ipython",
    "version": 3
   },
   "file_extension": ".py",
   "mimetype": "text/x-python",
   "name": "python",
   "nbconvert_exporter": "python",
   "pygments_lexer": "ipython3",
   "version": "3.12.4"
  }
 },
 "nbformat": 4,
 "nbformat_minor": 2
}
