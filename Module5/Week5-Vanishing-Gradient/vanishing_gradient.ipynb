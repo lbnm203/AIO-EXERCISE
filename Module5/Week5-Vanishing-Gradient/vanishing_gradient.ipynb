{
  "nbformat": 4,
  "nbformat_minor": 0,
  "metadata": {
    "colab": {
      "provenance": [],
      "collapsed_sections": [
        "8co-HJISTKNb"
      ],
      "gpuType": "T4"
    },
    "kernelspec": {
      "name": "python3",
      "display_name": "Python 3"
    },
    "language_info": {
      "name": "python"
    },
    "accelerator": "GPU"
  },
  "cells": [
    {
      "cell_type": "code",
      "execution_count": 1,
      "metadata": {
        "id": "t-oMoljcOL96"
      },
      "outputs": [],
      "source": [
        "import torch\n",
        "import matplotlib.pyplot as plt\n",
        "import numpy as np\n",
        "import random\n",
        "import torch.optim as optim\n",
        "import torchvision\n",
        "import torchvision.transforms as transforms\n",
        "from torch import nn\n",
        "from torch.utils.data import Dataset, DataLoader, random_split\n",
        "from torchvision.datasets import FashionMNIST"
      ]
    },
    {
      "cell_type": "code",
      "source": [
        "device = torch.device('cuda:0' if torch.cuda.is_available() else 'cpu')\n",
        "print(device)"
      ],
      "metadata": {
        "colab": {
          "base_uri": "https://localhost:8080/"
        },
        "id": "FNSHJRQxO5Lc",
        "outputId": "7c3c00c7-2bde-4875-a66c-54dc80006781"
      },
      "execution_count": 2,
      "outputs": [
        {
          "output_type": "stream",
          "name": "stdout",
          "text": [
            "cuda:0\n"
          ]
        }
      ]
    },
    {
      "cell_type": "markdown",
      "source": [
        "**1. Set Random Seed**"
      ],
      "metadata": {
        "id": "8co-HJISTKNb"
      }
    },
    {
      "cell_type": "code",
      "source": [
        "def set_seed(seed):\n",
        "    random.seed(seed)\n",
        "    np.random.seed(seed)\n",
        "    torch.manual_seed(seed)\n",
        "    torch.cuda.manual_seed(seed)\n",
        "    torch.cuda.manual_seed_all(seed)\n",
        "    torch.backends.cudnn.benchmark = False\n",
        "    torch.backends.cudnn.deterministic = True\n",
        "\n",
        "SEED = 42\n",
        "set_seed(SEED)"
      ],
      "metadata": {
        "id": "YPQMYij8O8n3"
      },
      "execution_count": 3,
      "outputs": []
    },
    {
      "cell_type": "markdown",
      "source": [
        "**2. Load FashionMNIST**"
      ],
      "metadata": {
        "id": "Nwr8VnerT-pK"
      }
    },
    {
      "cell_type": "code",
      "source": [
        "batch_size = 512\n",
        "\n",
        "train_dataset = FashionMNIST(root='./data', train=True, download=True, transform=transforms.ToTensor())\n",
        "test_dataset = FashionMNIST(root='./data', train=False, download=True, transform=transforms.ToTensor())"
      ],
      "metadata": {
        "colab": {
          "base_uri": "https://localhost:8080/"
        },
        "id": "HekpIMvhT2zA",
        "outputId": "59d073e8-4905-473a-ec31-3d21201cfdef"
      },
      "execution_count": 4,
      "outputs": [
        {
          "output_type": "stream",
          "name": "stdout",
          "text": [
            "Downloading http://fashion-mnist.s3-website.eu-central-1.amazonaws.com/train-images-idx3-ubyte.gz\n",
            "Downloading http://fashion-mnist.s3-website.eu-central-1.amazonaws.com/train-images-idx3-ubyte.gz to ./data/FashionMNIST/raw/train-images-idx3-ubyte.gz\n"
          ]
        },
        {
          "output_type": "stream",
          "name": "stderr",
          "text": [
            "100%|██████████| 26.4M/26.4M [00:02<00:00, 11.2MB/s]\n"
          ]
        },
        {
          "output_type": "stream",
          "name": "stdout",
          "text": [
            "Extracting ./data/FashionMNIST/raw/train-images-idx3-ubyte.gz to ./data/FashionMNIST/raw\n",
            "\n",
            "Downloading http://fashion-mnist.s3-website.eu-central-1.amazonaws.com/train-labels-idx1-ubyte.gz\n",
            "Downloading http://fashion-mnist.s3-website.eu-central-1.amazonaws.com/train-labels-idx1-ubyte.gz to ./data/FashionMNIST/raw/train-labels-idx1-ubyte.gz\n"
          ]
        },
        {
          "output_type": "stream",
          "name": "stderr",
          "text": [
            "100%|██████████| 29.5k/29.5k [00:00<00:00, 166kB/s]\n"
          ]
        },
        {
          "output_type": "stream",
          "name": "stdout",
          "text": [
            "Extracting ./data/FashionMNIST/raw/train-labels-idx1-ubyte.gz to ./data/FashionMNIST/raw\n",
            "\n",
            "Downloading http://fashion-mnist.s3-website.eu-central-1.amazonaws.com/t10k-images-idx3-ubyte.gz\n",
            "Downloading http://fashion-mnist.s3-website.eu-central-1.amazonaws.com/t10k-images-idx3-ubyte.gz to ./data/FashionMNIST/raw/t10k-images-idx3-ubyte.gz\n"
          ]
        },
        {
          "output_type": "stream",
          "name": "stderr",
          "text": [
            "100%|██████████| 4.42M/4.42M [00:01<00:00, 3.17MB/s]\n"
          ]
        },
        {
          "output_type": "stream",
          "name": "stdout",
          "text": [
            "Extracting ./data/FashionMNIST/raw/t10k-images-idx3-ubyte.gz to ./data/FashionMNIST/raw\n",
            "\n",
            "Downloading http://fashion-mnist.s3-website.eu-central-1.amazonaws.com/t10k-labels-idx1-ubyte.gz\n",
            "Downloading http://fashion-mnist.s3-website.eu-central-1.amazonaws.com/t10k-labels-idx1-ubyte.gz to ./data/FashionMNIST/raw/t10k-labels-idx1-ubyte.gz\n"
          ]
        },
        {
          "output_type": "stream",
          "name": "stderr",
          "text": [
            "100%|██████████| 5.15k/5.15k [00:00<00:00, 5.77MB/s]"
          ]
        },
        {
          "output_type": "stream",
          "name": "stdout",
          "text": [
            "Extracting ./data/FashionMNIST/raw/t10k-labels-idx1-ubyte.gz to ./data/FashionMNIST/raw\n",
            "\n"
          ]
        },
        {
          "output_type": "stream",
          "name": "stderr",
          "text": [
            "\n"
          ]
        }
      ]
    },
    {
      "cell_type": "markdown",
      "source": [
        "**3. Val split and create DataLoader**"
      ],
      "metadata": {
        "id": "sqb2wwsDVcdu"
      }
    },
    {
      "cell_type": "code",
      "source": [
        "train_ratio = 0.9\n",
        "\n",
        "train_size = int(train_ratio * len(train_dataset))\n",
        "val_size = len(train_dataset) - train_size\n",
        "\n",
        "train_dataset, val_dataset = random_split(train_dataset, [train_size, val_size])\n",
        "\n",
        "train_loader = DataLoader(train_dataset, batch_size=batch_size, shuffle=True)\n",
        "val_loader = DataLoader(val_dataset, batch_size=batch_size, shuffle=False)\n",
        "test_loader = DataLoader(test_dataset, batch_size=batch_size, shuffle=False)\n",
        "\n",
        "print(f'Train size: {len(train_dataset)}')\n",
        "print(f'Val size: {len(val_dataset)}')\n",
        "print(f'Test size: {len(test_dataset)}')"
      ],
      "metadata": {
        "colab": {
          "base_uri": "https://localhost:8080/"
        },
        "id": "OgDFYVmoUne9",
        "outputId": "9630df2e-7723-4bb6-d8cf-1461bb50ba92"
      },
      "execution_count": 5,
      "outputs": [
        {
          "output_type": "stream",
          "name": "stdout",
          "text": [
            "Train size: 54000\n",
            "Val size: 6000\n",
            "Test size: 10000\n"
          ]
        }
      ]
    },
    {
      "cell_type": "markdown",
      "source": [
        "**4. Build model MLP**"
      ],
      "metadata": {
        "id": "rgdMRMKma-2c"
      }
    },
    {
      "cell_type": "code",
      "source": [
        "# # 1. Weight Increasing\n",
        "# class MLP(nn.Module):\n",
        "#     def __init__(self, input_size, hidden_size, output_dim):\n",
        "#         super(MLP, self).__init__()\n",
        "#         self.layer1 = nn.Linear(input_size, hidden_size)\n",
        "#         self.layer2 = nn.Linear(hidden_size, hidden_size)\n",
        "#         self.layer3 = nn.Linear(hidden_size, hidden_size)\n",
        "#         self.layer4 = nn.Linear(hidden_size, hidden_size)\n",
        "#         self.layer5 = nn.Linear(hidden_size, hidden_size)\n",
        "#         self.layer6 = nn.Linear(hidden_size, hidden_size)\n",
        "#         self.layer7 = nn.Linear(hidden_size, hidden_size)\n",
        "#         self.output = nn.Linear(hidden_size, output_dim)\n",
        "\n",
        "#         # for module in self.modules():\n",
        "#         #     if isinstance(module, nn.Linear):\n",
        "#         #         nn.init.normal_(module.weight, mean=0.0, std=1.0)\n",
        "#         #         nn.init.constant_(module.bias, 0.0)\n",
        "\n",
        "#         for module in self.modules():\n",
        "#             if isinstance(module, nn.Linear):\n",
        "#                 nn.init.normal_(module.weight, mean=0.0, std=10.0)\n",
        "#                 nn.init.constant_(module.bias, 0.0)\n",
        "\n",
        "\n",
        "#     def forward(self, x):\n",
        "#         x = nn.Flatten()(x)\n",
        "#         x = self.layer1(x)\n",
        "#         x = nn.Sigmoid()(x)\n",
        "#         x = self.layer2(x)\n",
        "#         x = nn.Sigmoid()(x)\n",
        "#         x = self.layer3(x)\n",
        "#         x = nn.Sigmoid()(x)\n",
        "#         x = self.layer4(x)\n",
        "#         x = nn.Sigmoid()(x)\n",
        "#         x = self.layer5(x)\n",
        "#         x = nn.Sigmoid()(x)\n",
        "#         x = self.layer6(x)\n",
        "#         x = nn.Sigmoid()(x)\n",
        "#         x = self.layer7(x)\n",
        "#         x = nn.Sigmoid()(x)\n",
        "#         out = self.output(x)\n",
        "#         return out\n",
        "\n",
        "\n",
        "# # 2. Better Activation\n",
        "# class MLP(nn.Module):\n",
        "#     def __init__(self, input_size, hidden_size, output_dim):\n",
        "#         super(MLP, self).__init__()\n",
        "#         self.layer1 = nn.Linear(input_size, hidden_size)\n",
        "#         self.layer2 = nn.Linear(hidden_size, hidden_size)\n",
        "#         self.layer3 = nn.Linear(hidden_size, hidden_size)\n",
        "#         self.layer4 = nn.Linear(hidden_size, hidden_size)\n",
        "#         self.layer5 = nn.Linear(hidden_size, hidden_size)\n",
        "#         self.layer6 = nn.Linear(hidden_size, hidden_size)\n",
        "#         self.layer7 = nn.Linear(hidden_size, hidden_size)\n",
        "#         self.output = nn.Linear(hidden_size, output_dim)\n",
        "\n",
        "#         for module in self.modules():\n",
        "#             if isinstance(module, nn.Linear):\n",
        "#                 nn.init.normal_(module.weight, mean=0.0, std=0.05)\n",
        "#                 nn.init.constant_(module.bias, 0.0)\n",
        "\n",
        "#     def forward(self, x):\n",
        "#         x = nn.Flatten()(x)\n",
        "#         x = self.layer1(x)\n",
        "#         x = nn.ReLU()(x)\n",
        "#         x = self.layer2(x)\n",
        "#         x = nn.ReLU()(x)\n",
        "#         x = self.layer3(x)\n",
        "#         x = nn.ReLU()(x)\n",
        "#         x = self.layer4(x)\n",
        "#         x = nn.ReLU()(x)\n",
        "#         x = self.layer5(x)\n",
        "#         x = nn.ReLU()(x)\n",
        "#         x = self.layer6(x)\n",
        "#         x = nn.ReLU()(x)\n",
        "#         x = self.layer7(x)\n",
        "#         x = nn.ReLU()(x)\n",
        "#         out = self.output(x)\n",
        "#         return out\n",
        "\n",
        "# # 4. Normalize Inside Network\n",
        "# class MLP(nn.Module):\n",
        "#     def __init__(self, input_size, hidden_size, output_dim):\n",
        "#         super(MLP, self).__init__()\n",
        "#         self.layer1 = nn.Linear(input_size, hidden_size)\n",
        "#         self.layer2 = nn.Linear(hidden_size, hidden_size)\n",
        "#         self.layer3 = nn.Linear(hidden_size, hidden_size)\n",
        "#         self.layer4 = nn.Linear(hidden_size, hidden_size)\n",
        "#         self.layer5 = nn.Linear(hidden_size, hidden_size)\n",
        "#         self.layer6 = nn.Linear(hidden_size, hidden_size)\n",
        "#         self.layer7 = nn.Linear(hidden_size, hidden_size)\n",
        "#         self.output = nn.Linear(hidden_size, output_dim)\n",
        "\n",
        "#         for module in self.modules():\n",
        "#             if isinstance(module, nn.Linear):\n",
        "#                 nn.init.normal_(module.weight, mean=0.0, std=0.05)\n",
        "#                 nn.init.constant_(module.bias, 0.0)\n",
        "#     def forward(self, x):\n",
        "#         x = nn.Flatten()(x)\n",
        "#         x = self.layer1(x)\n",
        "#         x = nn.BatchNorm1d(self.hidden_dims)(x)\n",
        "#         x = nn.Sigmoid()(x)\n",
        "#         x = self.layer2(x)\n",
        "#         x = nn.BatchNorm1d(self.hidden_dims)(x)\n",
        "#         x = nn.Sigmoid()(x)\n",
        "#         x = self.layer3(x)\n",
        "#         x = nn.BatchNorm1d(self.hidden_dims)(x)\n",
        "#         x = nn.Sigmoid()(x)\n",
        "#         x = self.layer4(x)\n",
        "#         x = nn.BatchNorm1d(self.hidden_dims)(x)\n",
        "#         x = nn.Sigmoid()(x)\n",
        "#         x = self.layer5(x)\n",
        "#         x = nn.BatchNorm1d(self.hidden_dims)(x)\n",
        "#         x = nn.Sigmoid()(x)\n",
        "#         x = self.layer6(x)\n",
        "#         x = nn.BatchNorm1d(self.hidden_dims)(x)\n",
        "#         x = nn.Sigmoid()(x)\n",
        "#         x = self.layer7(x)\n",
        "#         x = nn.BatchNorm1d(self.hidden_dims)(x)\n",
        "#         x = nn.Sigmoid()(x)\n",
        "#         out = self.output(x)\n",
        "#         return out\n",
        "\n",
        "# class MyNormalization(nn.Module):\n",
        "#     def __init__(self):\n",
        "#         super().__init__()\n",
        "\n",
        "#     def forward(self, x):\n",
        "#         mean = torch.mean(x)\n",
        "#         std = torch.std(x)\n",
        "#         x = (x - mean) / std\n",
        "#         return x\n",
        "\n",
        "\n",
        "# 5. Skip Connection\n",
        "class MLP(nn.Module):\n",
        "    def __init__(self, input_size, hidden_size, output_dim):\n",
        "        super(MLP, self).__init__()\n",
        "        self.layer1 = nn.Linear(input_size, hidden_size)\n",
        "        self.layer2 = nn.Linear(hidden_size, hidden_size)\n",
        "        self.layer3 = nn.Linear(hidden_size, hidden_size)\n",
        "        self.layer4 = nn.Linear(hidden_size, hidden_size)\n",
        "        self.layer5 = nn.Linear(hidden_size, hidden_size)\n",
        "        self.layer6 = nn.Linear(hidden_size, hidden_size)\n",
        "        self.layer7 = nn.Linear(hidden_size, hidden_size)\n",
        "        self.output = nn.Linear(hidden_size, output_dim)\n",
        "\n",
        "        for module in self.modules():\n",
        "            if isinstance(module, nn.Linear):\n",
        "                nn.init.normal_(module.weight, mean=0.0, std=0.05)\n",
        "                nn.init.constant_(module.bias, 0.0)\n",
        "\n",
        "    def forward(self, x):\n",
        "        x = nn.Flatten()(x)\n",
        "        x = self.layer1(x)\n",
        "        x = nn.Sigmoid()(x)\n",
        "        skip = x\n",
        "\n",
        "        x = self.layer2(x)\n",
        "        x = nn.Sigmoid()(x)\n",
        "        x = self.layer3(x)\n",
        "        x = nn.Sigmoid()(x)\n",
        "        x = skip + x\n",
        "\n",
        "        x = self.layer4(x)\n",
        "        x = nn.Sigmoid()(x)\n",
        "        skip = x\n",
        "\n",
        "        x = self.layer5(x)\n",
        "        x = nn.Sigmoid()(x)\n",
        "        x = self.layer6(x)\n",
        "        x = nn.Sigmoid()(x)\n",
        "        x = self.layer7(x)\n",
        "        x = nn.Sigmoid()(x)\n",
        "        x = skip + x\n",
        "\n",
        "        out = self.output(x)\n",
        "        return out\n",
        "\n",
        "# 6. Gradient Normalization\n",
        "'''\n",
        "class GradientNormalization(torch.autograd.Function):\n",
        "    @staticmethod\n",
        "    def forward(ctx, input):\n",
        "        ctx.save_for_backward(input)\n",
        "        return input\n",
        "\n",
        "    @staticmethod\n",
        "    def backward(ctx, grad_output):\n",
        "        mean = torch.mean(grad_output)\n",
        "        std = torch.std(grad_output)\n",
        "        grad_input = (grad_output - mean) / (std + 1e-6)\n",
        "        return grad_input\n",
        "\n",
        "class GradientNormalizationLayer(nn.Module):\n",
        "    def __init__(self):\n",
        "        super(GradientNormalizationLayer, self).__init__()\n",
        "\n",
        "    def forward(self, x):\n",
        "        return GradientNormalization.apply(x)\n",
        "'''"
      ],
      "metadata": {
        "id": "-6I87J6EYYb0"
      },
      "execution_count": 6,
      "outputs": []
    },
    {
      "cell_type": "code",
      "source": [
        "# input_dims = 784\n",
        "# hidden_dims = 128\n",
        "# output_dims = 10\n",
        "# lr = 1e-2\n",
        "\n",
        "# model = MLP(input_dims, hidden_dims, output_dims).to(device)\n",
        "\n",
        "# criterion = nn.CrossEntropyLoss()\n",
        "# optimizer = optim.SGD(model.parameters(), lr=lr)\n",
        "\n",
        "# 3. Better Optimizer\n",
        "input_dims = 784\n",
        "hidden_dims = 128\n",
        "output_dims = 10\n",
        "lr = 1e-3\n",
        "\n",
        "model = MLP(input_dims, hidden_dims, output_dims).to(device)\n",
        "\n",
        "criterion = nn.CrossEntropyLoss()\n",
        "optimizer = optim.Adam(model.parameters(), lr=lr)"
      ],
      "metadata": {
        "id": "rfZY4hatitNo"
      },
      "execution_count": 7,
      "outputs": []
    },
    {
      "cell_type": "markdown",
      "source": [
        "#### **5. Training Model**"
      ],
      "metadata": {
        "id": "azTe9FDR8BNZ"
      }
    },
    {
      "cell_type": "code",
      "source": [
        "epochs = 100\n",
        "train_losses = []\n",
        "val_losses = []\n",
        "train_accs = []\n",
        "val_accs = []\n",
        "\n",
        "for epoch in range(epochs):\n",
        "    train_loss = 0.0\n",
        "    train_acc = 0.0\n",
        "    count = 0\n",
        "    model.train()\n",
        "    for X_train, y_train in train_loader:\n",
        "        X_train = X_train.to(device)\n",
        "        y_train = y_train.to(device)\n",
        "        optimizer.zero_grad()\n",
        "\n",
        "        outputs = model(X_train)\n",
        "        loss = criterion(outputs, y_train)\n",
        "        loss.backward()\n",
        "        optimizer.step()\n",
        "\n",
        "        train_loss += loss.item()\n",
        "        train_acc += (torch.argmax(outputs, 1) == y_train).sum().item()\n",
        "        count += len(y_train)\n",
        "\n",
        "    train_loss /= len(train_loader)\n",
        "    train_losses.append(train_loss)\n",
        "    train_acc /= count\n",
        "    train_accs.append(train_acc)\n",
        "\n",
        "    val_loss = 0.0\n",
        "    val_acc = 0.0\n",
        "    count = 0\n",
        "    model.eval()\n",
        "    with torch.no_grad():\n",
        "        for X_val, y_val in val_loader:\n",
        "            X_val = X_val.to(device)\n",
        "            y_val = y_val.to(device)\n",
        "\n",
        "            outputs = model(X_val)\n",
        "            loss = criterion(outputs, y_val)\n",
        "            val_loss += loss.item()\n",
        "            val_acc += (torch.argmax(outputs, 1) == y_val).sum().item()\n",
        "            count += len(y_val)\n",
        "\n",
        "    val_loss /= len(val_loader)\n",
        "    val_losses.append(val_loss)\n",
        "    val_acc /= count\n",
        "    val_accs.append(val_acc)\n",
        "\n",
        "    print(f'Epoch {epoch+1}/{epochs}, Train Loss: {train_loss:.4f}, Train Acc: {train_acc:.4f}, Val Loss: {val_loss:.4f}, Val Acc: {val_acc:.4f}')"
      ],
      "metadata": {
        "colab": {
          "base_uri": "https://localhost:8080/"
        },
        "id": "bP9xU3FU8Eil",
        "outputId": "22bdfe8c-8e3e-4a77-cd63-8087e8081ca3"
      },
      "execution_count": 8,
      "outputs": [
        {
          "output_type": "stream",
          "name": "stdout",
          "text": [
            "Epoch 1/100, Train Loss: 1.6910, Train Acc: 0.4290, Val Loss: 1.0594, Val Acc: 0.5533\n",
            "Epoch 2/100, Train Loss: 0.8332, Train Acc: 0.6868, Val Loss: 0.6875, Val Acc: 0.7503\n",
            "Epoch 3/100, Train Loss: 0.5971, Train Acc: 0.7795, Val Loss: 0.5556, Val Acc: 0.8008\n",
            "Epoch 4/100, Train Loss: 0.5007, Train Acc: 0.8213, Val Loss: 0.4947, Val Acc: 0.8318\n",
            "Epoch 5/100, Train Loss: 0.4506, Train Acc: 0.8405, Val Loss: 0.4690, Val Acc: 0.8343\n",
            "Epoch 6/100, Train Loss: 0.4152, Train Acc: 0.8536, Val Loss: 0.4209, Val Acc: 0.8552\n",
            "Epoch 7/100, Train Loss: 0.3919, Train Acc: 0.8597, Val Loss: 0.4117, Val Acc: 0.8568\n",
            "Epoch 8/100, Train Loss: 0.3701, Train Acc: 0.8663, Val Loss: 0.4088, Val Acc: 0.8537\n",
            "Epoch 9/100, Train Loss: 0.3564, Train Acc: 0.8718, Val Loss: 0.3987, Val Acc: 0.8583\n",
            "Epoch 10/100, Train Loss: 0.3441, Train Acc: 0.8747, Val Loss: 0.3804, Val Acc: 0.8613\n",
            "Epoch 11/100, Train Loss: 0.3315, Train Acc: 0.8802, Val Loss: 0.3708, Val Acc: 0.8685\n",
            "Epoch 12/100, Train Loss: 0.3210, Train Acc: 0.8836, Val Loss: 0.3631, Val Acc: 0.8695\n",
            "Epoch 13/100, Train Loss: 0.3177, Train Acc: 0.8846, Val Loss: 0.3603, Val Acc: 0.8688\n",
            "Epoch 14/100, Train Loss: 0.3074, Train Acc: 0.8884, Val Loss: 0.3683, Val Acc: 0.8670\n",
            "Epoch 15/100, Train Loss: 0.2996, Train Acc: 0.8900, Val Loss: 0.3760, Val Acc: 0.8672\n",
            "Epoch 16/100, Train Loss: 0.3007, Train Acc: 0.8898, Val Loss: 0.3640, Val Acc: 0.8715\n",
            "Epoch 17/100, Train Loss: 0.2909, Train Acc: 0.8930, Val Loss: 0.3488, Val Acc: 0.8737\n",
            "Epoch 18/100, Train Loss: 0.2855, Train Acc: 0.8962, Val Loss: 0.3711, Val Acc: 0.8708\n",
            "Epoch 19/100, Train Loss: 0.2790, Train Acc: 0.8978, Val Loss: 0.3475, Val Acc: 0.8765\n",
            "Epoch 20/100, Train Loss: 0.2731, Train Acc: 0.8994, Val Loss: 0.3418, Val Acc: 0.8803\n",
            "Epoch 21/100, Train Loss: 0.2673, Train Acc: 0.9018, Val Loss: 0.3469, Val Acc: 0.8737\n",
            "Epoch 22/100, Train Loss: 0.2664, Train Acc: 0.9020, Val Loss: 0.3431, Val Acc: 0.8792\n",
            "Epoch 23/100, Train Loss: 0.2647, Train Acc: 0.9016, Val Loss: 0.3540, Val Acc: 0.8793\n",
            "Epoch 24/100, Train Loss: 0.2584, Train Acc: 0.9047, Val Loss: 0.3593, Val Acc: 0.8757\n",
            "Epoch 25/100, Train Loss: 0.2527, Train Acc: 0.9063, Val Loss: 0.3390, Val Acc: 0.8760\n",
            "Epoch 26/100, Train Loss: 0.2518, Train Acc: 0.9078, Val Loss: 0.3366, Val Acc: 0.8825\n",
            "Epoch 27/100, Train Loss: 0.2466, Train Acc: 0.9086, Val Loss: 0.3350, Val Acc: 0.8825\n",
            "Epoch 28/100, Train Loss: 0.2431, Train Acc: 0.9108, Val Loss: 0.3391, Val Acc: 0.8810\n",
            "Epoch 29/100, Train Loss: 0.2400, Train Acc: 0.9112, Val Loss: 0.3417, Val Acc: 0.8815\n",
            "Epoch 30/100, Train Loss: 0.2353, Train Acc: 0.9132, Val Loss: 0.3625, Val Acc: 0.8765\n",
            "Epoch 31/100, Train Loss: 0.2318, Train Acc: 0.9137, Val Loss: 0.3468, Val Acc: 0.8765\n",
            "Epoch 32/100, Train Loss: 0.2327, Train Acc: 0.9147, Val Loss: 0.3401, Val Acc: 0.8850\n",
            "Epoch 33/100, Train Loss: 0.2249, Train Acc: 0.9168, Val Loss: 0.3590, Val Acc: 0.8755\n",
            "Epoch 34/100, Train Loss: 0.2214, Train Acc: 0.9186, Val Loss: 0.3464, Val Acc: 0.8807\n",
            "Epoch 35/100, Train Loss: 0.2147, Train Acc: 0.9212, Val Loss: 0.3549, Val Acc: 0.8827\n",
            "Epoch 36/100, Train Loss: 0.2153, Train Acc: 0.9209, Val Loss: 0.3592, Val Acc: 0.8803\n",
            "Epoch 37/100, Train Loss: 0.2125, Train Acc: 0.9222, Val Loss: 0.3724, Val Acc: 0.8760\n",
            "Epoch 38/100, Train Loss: 0.2089, Train Acc: 0.9239, Val Loss: 0.3696, Val Acc: 0.8793\n",
            "Epoch 39/100, Train Loss: 0.2066, Train Acc: 0.9244, Val Loss: 0.3596, Val Acc: 0.8778\n",
            "Epoch 40/100, Train Loss: 0.2037, Train Acc: 0.9254, Val Loss: 0.3626, Val Acc: 0.8808\n",
            "Epoch 41/100, Train Loss: 0.2019, Train Acc: 0.9263, Val Loss: 0.3466, Val Acc: 0.8823\n",
            "Epoch 42/100, Train Loss: 0.1990, Train Acc: 0.9280, Val Loss: 0.3540, Val Acc: 0.8812\n",
            "Epoch 43/100, Train Loss: 0.2004, Train Acc: 0.9259, Val Loss: 0.3625, Val Acc: 0.8797\n",
            "Epoch 44/100, Train Loss: 0.1945, Train Acc: 0.9295, Val Loss: 0.3523, Val Acc: 0.8802\n",
            "Epoch 45/100, Train Loss: 0.1958, Train Acc: 0.9291, Val Loss: 0.3623, Val Acc: 0.8793\n",
            "Epoch 46/100, Train Loss: 0.1898, Train Acc: 0.9314, Val Loss: 0.3575, Val Acc: 0.8810\n",
            "Epoch 47/100, Train Loss: 0.1891, Train Acc: 0.9307, Val Loss: 0.3605, Val Acc: 0.8828\n",
            "Epoch 48/100, Train Loss: 0.1845, Train Acc: 0.9330, Val Loss: 0.3603, Val Acc: 0.8825\n",
            "Epoch 49/100, Train Loss: 0.1826, Train Acc: 0.9332, Val Loss: 0.3663, Val Acc: 0.8815\n",
            "Epoch 50/100, Train Loss: 0.1817, Train Acc: 0.9344, Val Loss: 0.3560, Val Acc: 0.8853\n",
            "Epoch 51/100, Train Loss: 0.1755, Train Acc: 0.9369, Val Loss: 0.3614, Val Acc: 0.8848\n",
            "Epoch 52/100, Train Loss: 0.1767, Train Acc: 0.9361, Val Loss: 0.3832, Val Acc: 0.8773\n",
            "Epoch 53/100, Train Loss: 0.1778, Train Acc: 0.9353, Val Loss: 0.3696, Val Acc: 0.8860\n",
            "Epoch 54/100, Train Loss: 0.1703, Train Acc: 0.9391, Val Loss: 0.3681, Val Acc: 0.8832\n",
            "Epoch 55/100, Train Loss: 0.1695, Train Acc: 0.9391, Val Loss: 0.3811, Val Acc: 0.8787\n",
            "Epoch 56/100, Train Loss: 0.1696, Train Acc: 0.9388, Val Loss: 0.3907, Val Acc: 0.8772\n",
            "Epoch 57/100, Train Loss: 0.1694, Train Acc: 0.9395, Val Loss: 0.3913, Val Acc: 0.8840\n",
            "Epoch 58/100, Train Loss: 0.1671, Train Acc: 0.9404, Val Loss: 0.3682, Val Acc: 0.8837\n",
            "Epoch 59/100, Train Loss: 0.1591, Train Acc: 0.9429, Val Loss: 0.3789, Val Acc: 0.8822\n",
            "Epoch 60/100, Train Loss: 0.1594, Train Acc: 0.9421, Val Loss: 0.4175, Val Acc: 0.8783\n",
            "Epoch 61/100, Train Loss: 0.1651, Train Acc: 0.9403, Val Loss: 0.3793, Val Acc: 0.8838\n",
            "Epoch 62/100, Train Loss: 0.1560, Train Acc: 0.9442, Val Loss: 0.3758, Val Acc: 0.8842\n",
            "Epoch 63/100, Train Loss: 0.1568, Train Acc: 0.9431, Val Loss: 0.3867, Val Acc: 0.8813\n",
            "Epoch 64/100, Train Loss: 0.1558, Train Acc: 0.9439, Val Loss: 0.4272, Val Acc: 0.8762\n",
            "Epoch 65/100, Train Loss: 0.1524, Train Acc: 0.9459, Val Loss: 0.3959, Val Acc: 0.8818\n",
            "Epoch 66/100, Train Loss: 0.1585, Train Acc: 0.9425, Val Loss: 0.3807, Val Acc: 0.8855\n",
            "Epoch 67/100, Train Loss: 0.1548, Train Acc: 0.9452, Val Loss: 0.3946, Val Acc: 0.8823\n",
            "Epoch 68/100, Train Loss: 0.1482, Train Acc: 0.9471, Val Loss: 0.3958, Val Acc: 0.8825\n",
            "Epoch 69/100, Train Loss: 0.1516, Train Acc: 0.9457, Val Loss: 0.3923, Val Acc: 0.8833\n",
            "Epoch 70/100, Train Loss: 0.1470, Train Acc: 0.9477, Val Loss: 0.3918, Val Acc: 0.8872\n",
            "Epoch 71/100, Train Loss: 0.1414, Train Acc: 0.9506, Val Loss: 0.4073, Val Acc: 0.8818\n",
            "Epoch 72/100, Train Loss: 0.1407, Train Acc: 0.9499, Val Loss: 0.4039, Val Acc: 0.8797\n",
            "Epoch 73/100, Train Loss: 0.1399, Train Acc: 0.9504, Val Loss: 0.4100, Val Acc: 0.8838\n",
            "Epoch 74/100, Train Loss: 0.1374, Train Acc: 0.9507, Val Loss: 0.4169, Val Acc: 0.8805\n",
            "Epoch 75/100, Train Loss: 0.1398, Train Acc: 0.9499, Val Loss: 0.4059, Val Acc: 0.8837\n",
            "Epoch 76/100, Train Loss: 0.1305, Train Acc: 0.9542, Val Loss: 0.4258, Val Acc: 0.8805\n",
            "Epoch 77/100, Train Loss: 0.1340, Train Acc: 0.9533, Val Loss: 0.4108, Val Acc: 0.8832\n",
            "Epoch 78/100, Train Loss: 0.1343, Train Acc: 0.9520, Val Loss: 0.4242, Val Acc: 0.8788\n",
            "Epoch 79/100, Train Loss: 0.1303, Train Acc: 0.9544, Val Loss: 0.4211, Val Acc: 0.8822\n",
            "Epoch 80/100, Train Loss: 0.1316, Train Acc: 0.9530, Val Loss: 0.4415, Val Acc: 0.8827\n",
            "Epoch 81/100, Train Loss: 0.1271, Train Acc: 0.9548, Val Loss: 0.4152, Val Acc: 0.8840\n",
            "Epoch 82/100, Train Loss: 0.1206, Train Acc: 0.9581, Val Loss: 0.4329, Val Acc: 0.8822\n",
            "Epoch 83/100, Train Loss: 0.1322, Train Acc: 0.9525, Val Loss: 0.5012, Val Acc: 0.8695\n",
            "Epoch 84/100, Train Loss: 0.1293, Train Acc: 0.9549, Val Loss: 0.4478, Val Acc: 0.8817\n",
            "Epoch 85/100, Train Loss: 0.1229, Train Acc: 0.9556, Val Loss: 0.4707, Val Acc: 0.8770\n",
            "Epoch 86/100, Train Loss: 0.1318, Train Acc: 0.9529, Val Loss: 0.4346, Val Acc: 0.8790\n",
            "Epoch 87/100, Train Loss: 0.1146, Train Acc: 0.9610, Val Loss: 0.4266, Val Acc: 0.8848\n",
            "Epoch 88/100, Train Loss: 0.1127, Train Acc: 0.9611, Val Loss: 0.4614, Val Acc: 0.8775\n",
            "Epoch 89/100, Train Loss: 0.1208, Train Acc: 0.9572, Val Loss: 0.4468, Val Acc: 0.8778\n",
            "Epoch 90/100, Train Loss: 0.1143, Train Acc: 0.9595, Val Loss: 0.4386, Val Acc: 0.8838\n",
            "Epoch 91/100, Train Loss: 0.1132, Train Acc: 0.9608, Val Loss: 0.4442, Val Acc: 0.8810\n",
            "Epoch 92/100, Train Loss: 0.1144, Train Acc: 0.9603, Val Loss: 0.4715, Val Acc: 0.8787\n",
            "Epoch 93/100, Train Loss: 0.1157, Train Acc: 0.9594, Val Loss: 0.4603, Val Acc: 0.8793\n",
            "Epoch 94/100, Train Loss: 0.1107, Train Acc: 0.9612, Val Loss: 0.4540, Val Acc: 0.8837\n",
            "Epoch 95/100, Train Loss: 0.1087, Train Acc: 0.9626, Val Loss: 0.4554, Val Acc: 0.8812\n",
            "Epoch 96/100, Train Loss: 0.1109, Train Acc: 0.9611, Val Loss: 0.4824, Val Acc: 0.8788\n",
            "Epoch 97/100, Train Loss: 0.1041, Train Acc: 0.9643, Val Loss: 0.4707, Val Acc: 0.8778\n",
            "Epoch 98/100, Train Loss: 0.1065, Train Acc: 0.9635, Val Loss: 0.4610, Val Acc: 0.8845\n",
            "Epoch 99/100, Train Loss: 0.1020, Train Acc: 0.9652, Val Loss: 0.4896, Val Acc: 0.8765\n",
            "Epoch 100/100, Train Loss: 0.1085, Train Acc: 0.9620, Val Loss: 0.4616, Val Acc: 0.8802\n"
          ]
        }
      ]
    },
    {
      "cell_type": "code",
      "source": [
        "fig, ax = plt.subplots(1, 4, figsize=(12, 4))\n",
        "ax[0].plot(train_losses, color='red')\n",
        "ax[0].set(xlabel='Epoch', ylabel='Loss', title='Training Loss')\n",
        "\n",
        "ax[1].plot(train_accs, color='red')\n",
        "ax[1].set(xlabel='Epoch', ylabel='Accuracy', title='Training Accuracy')\n",
        "\n",
        "ax[2].plot(val_losses, color='blue')\n",
        "ax[2].set(xlabel='Epoch', ylabel='Loss', title='Validation Loss')\n",
        "\n",
        "ax[3].plot(val_accs, color='blue')\n",
        "ax[3].set(xlabel='Epoch', ylabel='Accuracy', title='Validation Accuracy')\n",
        "\n",
        "plt.show()"
      ],
      "metadata": {
        "colab": {
          "base_uri": "https://localhost:8080/",
          "height": 410
        },
        "id": "4bZNoQrJ9tGo",
        "outputId": "011713c0-7dfb-44f0-a9bb-39a71aa9fd54"
      },
      "execution_count": 9,
      "outputs": [
        {
          "output_type": "display_data",
          "data": {
            "text/plain": [
              "<Figure size 1200x400 with 4 Axes>"
            ],
            "image/png": "[encoded data removed]"
          },
          "metadata": {}
        }
      ]
    },
    {
      "cell_type": "markdown",
      "source": [
        "#### **6. Evaluation**"
      ],
      "metadata": {
        "id": "D6Qgki2w-iVV"
      }
    },
    {
      "cell_type": "code",
      "source": [
        "test_pred = []\n",
        "test_target = []\n",
        "\n",
        "model.eval()\n",
        "with torch.no_grad():\n",
        "    for X_test, y_test in test_loader:\n",
        "        X_test = X_test.to(device)\n",
        "        y_test = y_test.to(device)\n",
        "        outputs = model(X_test)\n",
        "\n",
        "        test_target.append(y_test.cpu())\n",
        "        test_pred.append(outputs.cpu())\n",
        "\n",
        "    test_pred = torch.cat(test_pred)\n",
        "    test_target = torch.cat(test_target)\n",
        "    test_acc = (torch.argmax(test_pred, 1) == test_target).sum().item() / len(test_target)\n",
        "\n",
        "print(f'Accuracy on test set: {test_acc:.4f}')\n"
      ],
      "metadata": {
        "colab": {
          "base_uri": "https://localhost:8080/"
        },
        "id": "Xqvglysk-ln1",
        "outputId": "e605833c-f1eb-4706-8e99-c850e4bb57ea"
      },
      "execution_count": 10,
      "outputs": [
        {
          "output_type": "stream",
          "name": "stdout",
          "text": [
            "Accuracy on test set: 0.8810\n"
          ]
        }
      ]
    },
    {
      "cell_type": "code",
      "source": [],
      "metadata": {
        "id": "eEiDxCJ2ZMaM"
      },
      "execution_count": 10,
      "outputs": []
    }
  ]
}